{
 "cells": [
  {
   "cell_type": "markdown",
   "metadata": {},
   "source": [
    "### PHASE 1 PROJECT\n",
    "\n",
    "### ANALYSIS OF GENDER GAP IN PRIMARY AND SECONDARY SCHOOL ENROLLMENT IN KENYA\n",
    "\n",
    "### 1.BUSINESS UNDERSTANDING"
   ]
  },
  {
   "cell_type": "markdown",
   "metadata": {},
   "source": [
    "BACKGROUND\n",
    "\n",
    "Education is a key factor to socioeconomic development in Kenya.\n",
    "\n",
    "However, gender gaps in school enrollment can hinder equal opportunity and growth.\n",
    "\n",
    "\n",
    "OBJECTIVE\n",
    "\n",
    "This project investigates gender disparities in primary and secondary school enrollment across Kenya's counties.\n",
    "\n",
    "The goal is to generate actionable insights to help the Ministry of Education and NGOs close the gap and promote inclusive education."
   ]
  },
  {
   "cell_type": "markdown",
   "metadata": {},
   "source": [
    "Research Questions\n",
    "\n",
    "\n",
    "- Are there significant gender disparities in school enrollment in Kenya?\n",
    "- Which counties have the largest gaps?\n",
    "- How does enrollment vary between education levels (Primary vs Secondary)?"
   ]
  },
  {
   "cell_type": "markdown",
   "metadata": {},
   "source": [
    "### 2..DATA UNDERSTANDING"
   ]
  },
  {
   "cell_type": "markdown",
   "metadata": {},
   "source": [
    "This dataset is a simulated but realistic dataset based on typical county-level enrollment data in Kenya. It contains gender, education level, enrollment counts, and years."
   ]
  },
  {
   "cell_type": "markdown",
   "metadata": {},
   "source": [
    "Data loading"
   ]
  },
  {
   "cell_type": "code",
   "execution_count": 65,
   "metadata": {},
   "outputs": [],
   "source": [
    "import pandas as pd\n",
    "import numpy as np\n",
    "import matplotlib.pyplot as plt\n",
    "import seaborn as sns"
   ]
  },
  {
   "cell_type": "code",
   "execution_count": 66,
   "metadata": {},
   "outputs": [],
   "source": [
    "edu_df=pd.read_csv(r\"C:\\Users\\USER\\Downloads\\Kenya_Enrollment_Dirty.csv\")"
   ]
  },
  {
   "cell_type": "code",
   "execution_count": 67,
   "metadata": {},
   "outputs": [
    {
     "data": {
      "text/html": [
       "<div>\n",
       "<style scoped>\n",
       "    .dataframe tbody tr th:only-of-type {\n",
       "        vertical-align: middle;\n",
       "    }\n",
       "\n",
       "    .dataframe tbody tr th {\n",
       "        vertical-align: top;\n",
       "    }\n",
       "\n",
       "    .dataframe thead th {\n",
       "        text-align: right;\n",
       "    }\n",
       "</style>\n",
       "<table border=\"1\" class=\"dataframe\">\n",
       "  <thead>\n",
       "    <tr style=\"text-align: right;\">\n",
       "      <th></th>\n",
       "      <th>County</th>\n",
       "      <th>Year</th>\n",
       "      <th>Gender</th>\n",
       "      <th>Level</th>\n",
       "      <th>Enrollment</th>\n",
       "    </tr>\n",
       "  </thead>\n",
       "  <tbody>\n",
       "    <tr>\n",
       "      <th>0</th>\n",
       "      <td>Garissa</td>\n",
       "      <td>2021</td>\n",
       "      <td>male</td>\n",
       "      <td>Primary</td>\n",
       "      <td>7270.0</td>\n",
       "    </tr>\n",
       "    <tr>\n",
       "      <th>1</th>\n",
       "      <td>Nakuru</td>\n",
       "      <td>2022</td>\n",
       "      <td>male</td>\n",
       "      <td>Secondary</td>\n",
       "      <td>860.0</td>\n",
       "    </tr>\n",
       "    <tr>\n",
       "      <th>2</th>\n",
       "      <td></td>\n",
       "      <td>2015</td>\n",
       "      <td>Male</td>\n",
       "      <td>Secondary</td>\n",
       "      <td>5390.0</td>\n",
       "    </tr>\n",
       "    <tr>\n",
       "      <th>3</th>\n",
       "      <td>Uasin Gishu</td>\n",
       "      <td>2019</td>\n",
       "      <td>FEMALE</td>\n",
       "      <td>Secondary</td>\n",
       "      <td>5191.0</td>\n",
       "    </tr>\n",
       "    <tr>\n",
       "      <th>4</th>\n",
       "      <td>Lamu</td>\n",
       "      <td>2011</td>\n",
       "      <td>Female</td>\n",
       "      <td>P</td>\n",
       "      <td>5734.0</td>\n",
       "    </tr>\n",
       "  </tbody>\n",
       "</table>\n",
       "</div>"
      ],
      "text/plain": [
       "        County  Year  Gender      Level  Enrollment\n",
       "0      Garissa  2021    male    Primary      7270.0\n",
       "1       Nakuru  2022    male  Secondary       860.0\n",
       "2               2015    Male  Secondary      5390.0\n",
       "3  Uasin Gishu  2019  FEMALE  Secondary      5191.0\n",
       "4         Lamu  2011  Female          P      5734.0"
      ]
     },
     "execution_count": 67,
     "metadata": {},
     "output_type": "execute_result"
    }
   ],
   "source": [
    "edu_df.head()"
   ]
  },
  {
   "cell_type": "markdown",
   "metadata": {},
   "source": [
    "We can also check the structure of the dataset in terms of shape,null values and datatypes"
   ]
  },
  {
   "cell_type": "code",
   "execution_count": 68,
   "metadata": {},
   "outputs": [
    {
     "data": {
      "text/plain": [
       "(8112, 5)"
      ]
     },
     "execution_count": 68,
     "metadata": {},
     "output_type": "execute_result"
    }
   ],
   "source": [
    "edu_df.shape"
   ]
  },
  {
   "cell_type": "code",
   "execution_count": 69,
   "metadata": {},
   "outputs": [
    {
     "name": "stdout",
     "output_type": "stream",
     "text": [
      "<class 'pandas.core.frame.DataFrame'>\n",
      "RangeIndex: 8112 entries, 0 to 8111\n",
      "Data columns (total 5 columns):\n",
      " #   Column      Non-Null Count  Dtype  \n",
      "---  ------      --------------  -----  \n",
      " 0   County      8112 non-null   object \n",
      " 1   Year        8112 non-null   object \n",
      " 2   Gender      8112 non-null   object \n",
      " 3   Level       8112 non-null   object \n",
      " 4   Enrollment  7712 non-null   float64\n",
      "dtypes: float64(1), object(4)\n",
      "memory usage: 317.0+ KB\n"
     ]
    }
   ],
   "source": [
    "edu_df.info()"
   ]
  },
  {
   "cell_type": "markdown",
   "metadata": {},
   "source": [
    "### 3.DATA PREPARATION AND CLEANING"
   ]
  },
  {
   "cell_type": "markdown",
   "metadata": {},
   "source": [
    "Before we begin our analysis, we need to clean the dataset. The raw data contains several issues:\n",
    "- Inconsistent casing and abbreviations in the `Gender` and `Level` columns\n",
    "- Missing values in `Enrollment`\n",
    "- Some non-numeric values in the `Year` column (e.g., \"two thousand twelve\")\n",
    "- Blank or whitespace-only entries in the `County` column\n",
    "- Wrong data types (e.g., `Enrollment` and `Year` as objects)\n",
    "\n",
    "We'll address each of these issues step-by-step using pandas."
   ]
  },
  {
   "cell_type": "markdown",
   "metadata": {},
   "source": [
    "Let's preview the column names"
   ]
  },
  {
   "cell_type": "code",
   "execution_count": 111,
   "metadata": {},
   "outputs": [
    {
     "data": {
      "text/html": [
       "<div>\n",
       "<style scoped>\n",
       "    .dataframe tbody tr th:only-of-type {\n",
       "        vertical-align: middle;\n",
       "    }\n",
       "\n",
       "    .dataframe tbody tr th {\n",
       "        vertical-align: top;\n",
       "    }\n",
       "\n",
       "    .dataframe thead th {\n",
       "        text-align: right;\n",
       "    }\n",
       "</style>\n",
       "<table border=\"1\" class=\"dataframe\">\n",
       "  <thead>\n",
       "    <tr style=\"text-align: right;\">\n",
       "      <th></th>\n",
       "      <th>County</th>\n",
       "      <th>Year</th>\n",
       "      <th>Gender</th>\n",
       "      <th>Level</th>\n",
       "      <th>Enrollment</th>\n",
       "    </tr>\n",
       "  </thead>\n",
       "  <tbody>\n",
       "    <tr>\n",
       "      <th>0</th>\n",
       "      <td>Garissa</td>\n",
       "      <td>2021</td>\n",
       "      <td>male</td>\n",
       "      <td>primary</td>\n",
       "      <td>7270</td>\n",
       "    </tr>\n",
       "    <tr>\n",
       "      <th>1</th>\n",
       "      <td>Nakuru</td>\n",
       "      <td>2022</td>\n",
       "      <td>male</td>\n",
       "      <td>secondary</td>\n",
       "      <td>860</td>\n",
       "    </tr>\n",
       "    <tr>\n",
       "      <th>2</th>\n",
       "      <td>Uasin Gishu</td>\n",
       "      <td>2019</td>\n",
       "      <td>female</td>\n",
       "      <td>secondary</td>\n",
       "      <td>5191</td>\n",
       "    </tr>\n",
       "    <tr>\n",
       "      <th>3</th>\n",
       "      <td>Lamu</td>\n",
       "      <td>2011</td>\n",
       "      <td>female</td>\n",
       "      <td>primary</td>\n",
       "      <td>5734</td>\n",
       "    </tr>\n",
       "    <tr>\n",
       "      <th>4</th>\n",
       "      <td>Isiolo</td>\n",
       "      <td>2021</td>\n",
       "      <td>male</td>\n",
       "      <td>primary</td>\n",
       "      <td>6265</td>\n",
       "    </tr>\n",
       "  </tbody>\n",
       "</table>\n",
       "</div>"
      ],
      "text/plain": [
       "        County  Year  Gender      Level  Enrollment\n",
       "0      Garissa  2021    male    primary        7270\n",
       "1       Nakuru  2022    male  secondary         860\n",
       "2  Uasin Gishu  2019  female  secondary        5191\n",
       "3         Lamu  2011  female    primary        5734\n",
       "4       Isiolo  2021    male    primary        6265"
      ]
     },
     "execution_count": 111,
     "metadata": {},
     "output_type": "execute_result"
    }
   ],
   "source": [
    "edu_df.head()\n"
   ]
  },
  {
   "cell_type": "markdown",
   "metadata": {},
   "source": [
    "check for null values"
   ]
  },
  {
   "cell_type": "code",
   "execution_count": 71,
   "metadata": {},
   "outputs": [
    {
     "data": {
      "text/plain": [
       "County          0\n",
       "Year            0\n",
       "Gender          0\n",
       "Level           0\n",
       "Enrollment    400\n",
       "dtype: int64"
      ]
     },
     "execution_count": 71,
     "metadata": {},
     "output_type": "execute_result"
    }
   ],
   "source": [
    "edu_df.isnull().sum()"
   ]
  },
  {
   "cell_type": "code",
   "execution_count": 72,
   "metadata": {},
   "outputs": [
    {
     "data": {
      "text/html": [
       "<div>\n",
       "<style scoped>\n",
       "    .dataframe tbody tr th:only-of-type {\n",
       "        vertical-align: middle;\n",
       "    }\n",
       "\n",
       "    .dataframe tbody tr th {\n",
       "        vertical-align: top;\n",
       "    }\n",
       "\n",
       "    .dataframe thead th {\n",
       "        text-align: right;\n",
       "    }\n",
       "</style>\n",
       "<table border=\"1\" class=\"dataframe\">\n",
       "  <thead>\n",
       "    <tr style=\"text-align: right;\">\n",
       "      <th></th>\n",
       "      <th>County</th>\n",
       "      <th>Year</th>\n",
       "      <th>Gender</th>\n",
       "      <th>Level</th>\n",
       "      <th>Enrollment</th>\n",
       "    </tr>\n",
       "  </thead>\n",
       "  <tbody>\n",
       "    <tr>\n",
       "      <th>8107</th>\n",
       "      <td>Turkana</td>\n",
       "      <td>2016</td>\n",
       "      <td>Female</td>\n",
       "      <td>Primary</td>\n",
       "      <td>5260.0</td>\n",
       "    </tr>\n",
       "    <tr>\n",
       "      <th>8108</th>\n",
       "      <td>Siaya</td>\n",
       "      <td>2013</td>\n",
       "      <td>Female</td>\n",
       "      <td>Primary</td>\n",
       "      <td>4409.0</td>\n",
       "    </tr>\n",
       "    <tr>\n",
       "      <th>8109</th>\n",
       "      <td>Turkana</td>\n",
       "      <td>2010</td>\n",
       "      <td>M</td>\n",
       "      <td>SECONDARY</td>\n",
       "      <td>5783.0</td>\n",
       "    </tr>\n",
       "    <tr>\n",
       "      <th>8110</th>\n",
       "      <td>Nyeri</td>\n",
       "      <td>2012</td>\n",
       "      <td>male</td>\n",
       "      <td>SECONDARY</td>\n",
       "      <td>712.0</td>\n",
       "    </tr>\n",
       "    <tr>\n",
       "      <th>8111</th>\n",
       "      <td>Kitui</td>\n",
       "      <td>2012</td>\n",
       "      <td>M</td>\n",
       "      <td>SECONDARY</td>\n",
       "      <td>5406.0</td>\n",
       "    </tr>\n",
       "  </tbody>\n",
       "</table>\n",
       "</div>"
      ],
      "text/plain": [
       "       County  Year  Gender      Level  Enrollment\n",
       "8107  Turkana  2016  Female    Primary      5260.0\n",
       "8108    Siaya  2013  Female    Primary      4409.0\n",
       "8109  Turkana  2010       M  SECONDARY      5783.0\n",
       "8110    Nyeri  2012    male  SECONDARY       712.0\n",
       "8111    Kitui  2012       M  SECONDARY      5406.0"
      ]
     },
     "execution_count": 72,
     "metadata": {},
     "output_type": "execute_result"
    }
   ],
   "source": [
    "edu_df.tail()"
   ]
  },
  {
   "cell_type": "markdown",
   "metadata": {},
   "source": [
    "According to the above information,we have to:\n",
    "\n",
    "\n",
    "-Standardize inconsistent text (e.g., \"male\", \"M\", etc.)\n",
    "\n",
    "-Fix year values and convert to integers\n",
    "\n",
    "-Remove or impute missing values\n",
    "\n",
    "-Clean county names"
   ]
  },
  {
   "cell_type": "markdown",
   "metadata": {},
   "source": [
    "Let's begin by standardizing the Gender column \n",
    "\n",
    "We will:\n",
    "- Convert all values to lowercase\n",
    "- Strip any whitespace\n",
    "- Replace abbreviations ('m', 'f') with full words ('male', 'female')"
   ]
  },
  {
   "cell_type": "code",
   "execution_count": 73,
   "metadata": {},
   "outputs": [],
   "source": [
    "edu_df['Gender'] = edu_df['Gender'].str.lower().str.strip().replace({'m': 'male', 'f': 'female'})"
   ]
  },
  {
   "cell_type": "code",
   "execution_count": 74,
   "metadata": {},
   "outputs": [
    {
     "data": {
      "text/html": [
       "<div>\n",
       "<style scoped>\n",
       "    .dataframe tbody tr th:only-of-type {\n",
       "        vertical-align: middle;\n",
       "    }\n",
       "\n",
       "    .dataframe tbody tr th {\n",
       "        vertical-align: top;\n",
       "    }\n",
       "\n",
       "    .dataframe thead th {\n",
       "        text-align: right;\n",
       "    }\n",
       "</style>\n",
       "<table border=\"1\" class=\"dataframe\">\n",
       "  <thead>\n",
       "    <tr style=\"text-align: right;\">\n",
       "      <th></th>\n",
       "      <th>County</th>\n",
       "      <th>Year</th>\n",
       "      <th>Gender</th>\n",
       "      <th>Level</th>\n",
       "      <th>Enrollment</th>\n",
       "    </tr>\n",
       "  </thead>\n",
       "  <tbody>\n",
       "    <tr>\n",
       "      <th>0</th>\n",
       "      <td>Garissa</td>\n",
       "      <td>2021</td>\n",
       "      <td>male</td>\n",
       "      <td>Primary</td>\n",
       "      <td>7270.0</td>\n",
       "    </tr>\n",
       "    <tr>\n",
       "      <th>1</th>\n",
       "      <td>Nakuru</td>\n",
       "      <td>2022</td>\n",
       "      <td>male</td>\n",
       "      <td>Secondary</td>\n",
       "      <td>860.0</td>\n",
       "    </tr>\n",
       "    <tr>\n",
       "      <th>2</th>\n",
       "      <td></td>\n",
       "      <td>2015</td>\n",
       "      <td>male</td>\n",
       "      <td>Secondary</td>\n",
       "      <td>5390.0</td>\n",
       "    </tr>\n",
       "    <tr>\n",
       "      <th>3</th>\n",
       "      <td>Uasin Gishu</td>\n",
       "      <td>2019</td>\n",
       "      <td>female</td>\n",
       "      <td>Secondary</td>\n",
       "      <td>5191.0</td>\n",
       "    </tr>\n",
       "    <tr>\n",
       "      <th>4</th>\n",
       "      <td>Lamu</td>\n",
       "      <td>2011</td>\n",
       "      <td>female</td>\n",
       "      <td>P</td>\n",
       "      <td>5734.0</td>\n",
       "    </tr>\n",
       "  </tbody>\n",
       "</table>\n",
       "</div>"
      ],
      "text/plain": [
       "        County  Year  Gender      Level  Enrollment\n",
       "0      Garissa  2021    male    Primary      7270.0\n",
       "1       Nakuru  2022    male  Secondary       860.0\n",
       "2               2015    male  Secondary      5390.0\n",
       "3  Uasin Gishu  2019  female  Secondary      5191.0\n",
       "4         Lamu  2011  female          P      5734.0"
      ]
     },
     "execution_count": 74,
     "metadata": {},
     "output_type": "execute_result"
    }
   ],
   "source": [
    "edu_df.head()"
   ]
  },
  {
   "cell_type": "code",
   "execution_count": 75,
   "metadata": {},
   "outputs": [
    {
     "data": {
      "text/html": [
       "<div>\n",
       "<style scoped>\n",
       "    .dataframe tbody tr th:only-of-type {\n",
       "        vertical-align: middle;\n",
       "    }\n",
       "\n",
       "    .dataframe tbody tr th {\n",
       "        vertical-align: top;\n",
       "    }\n",
       "\n",
       "    .dataframe thead th {\n",
       "        text-align: right;\n",
       "    }\n",
       "</style>\n",
       "<table border=\"1\" class=\"dataframe\">\n",
       "  <thead>\n",
       "    <tr style=\"text-align: right;\">\n",
       "      <th></th>\n",
       "      <th>County</th>\n",
       "      <th>Year</th>\n",
       "      <th>Gender</th>\n",
       "      <th>Level</th>\n",
       "      <th>Enrollment</th>\n",
       "    </tr>\n",
       "  </thead>\n",
       "  <tbody>\n",
       "    <tr>\n",
       "      <th>8107</th>\n",
       "      <td>Turkana</td>\n",
       "      <td>2016</td>\n",
       "      <td>female</td>\n",
       "      <td>Primary</td>\n",
       "      <td>5260.0</td>\n",
       "    </tr>\n",
       "    <tr>\n",
       "      <th>8108</th>\n",
       "      <td>Siaya</td>\n",
       "      <td>2013</td>\n",
       "      <td>female</td>\n",
       "      <td>Primary</td>\n",
       "      <td>4409.0</td>\n",
       "    </tr>\n",
       "    <tr>\n",
       "      <th>8109</th>\n",
       "      <td>Turkana</td>\n",
       "      <td>2010</td>\n",
       "      <td>male</td>\n",
       "      <td>SECONDARY</td>\n",
       "      <td>5783.0</td>\n",
       "    </tr>\n",
       "    <tr>\n",
       "      <th>8110</th>\n",
       "      <td>Nyeri</td>\n",
       "      <td>2012</td>\n",
       "      <td>male</td>\n",
       "      <td>SECONDARY</td>\n",
       "      <td>712.0</td>\n",
       "    </tr>\n",
       "    <tr>\n",
       "      <th>8111</th>\n",
       "      <td>Kitui</td>\n",
       "      <td>2012</td>\n",
       "      <td>male</td>\n",
       "      <td>SECONDARY</td>\n",
       "      <td>5406.0</td>\n",
       "    </tr>\n",
       "  </tbody>\n",
       "</table>\n",
       "</div>"
      ],
      "text/plain": [
       "       County  Year  Gender      Level  Enrollment\n",
       "8107  Turkana  2016  female    Primary      5260.0\n",
       "8108    Siaya  2013  female    Primary      4409.0\n",
       "8109  Turkana  2010    male  SECONDARY      5783.0\n",
       "8110    Nyeri  2012    male  SECONDARY       712.0\n",
       "8111    Kitui  2012    male  SECONDARY      5406.0"
      ]
     },
     "execution_count": 75,
     "metadata": {},
     "output_type": "execute_result"
    }
   ],
   "source": [
    "edu_df.tail()"
   ]
  },
  {
   "cell_type": "markdown",
   "metadata": {},
   "source": [
    "Let's then proceed to standardizing Level column\n",
    "\n",
    "We will:\n",
    "- Convert all values to lowercase\n",
    "- Replace 'p' and 's' with 'primary' and 'secondary'\n",
    "- Remove trailing spaces"
   ]
  },
  {
   "cell_type": "code",
   "execution_count": 76,
   "metadata": {},
   "outputs": [
    {
     "name": "stdout",
     "output_type": "stream",
     "text": [
      "Unique Levels(raws): ['Primary' 'Secondary' 'P' 'primary' 'S' 'SECONDARY']\n"
     ]
    }
   ],
   "source": [
    "print(\"Unique Levels(raws):\", edu_df['Level'].unique())\n"
   ]
  },
  {
   "cell_type": "code",
   "execution_count": 77,
   "metadata": {},
   "outputs": [],
   "source": [
    "edu_df['Level']=edu_df['Level'].str.lower().str.strip().replace({'p':'primary','s':'secondary'})"
   ]
  },
  {
   "cell_type": "markdown",
   "metadata": {},
   "source": [
    "Let's confirm the changes made"
   ]
  },
  {
   "cell_type": "code",
   "execution_count": 78,
   "metadata": {},
   "outputs": [
    {
     "data": {
      "text/html": [
       "<div>\n",
       "<style scoped>\n",
       "    .dataframe tbody tr th:only-of-type {\n",
       "        vertical-align: middle;\n",
       "    }\n",
       "\n",
       "    .dataframe tbody tr th {\n",
       "        vertical-align: top;\n",
       "    }\n",
       "\n",
       "    .dataframe thead th {\n",
       "        text-align: right;\n",
       "    }\n",
       "</style>\n",
       "<table border=\"1\" class=\"dataframe\">\n",
       "  <thead>\n",
       "    <tr style=\"text-align: right;\">\n",
       "      <th></th>\n",
       "      <th>County</th>\n",
       "      <th>Year</th>\n",
       "      <th>Gender</th>\n",
       "      <th>Level</th>\n",
       "      <th>Enrollment</th>\n",
       "    </tr>\n",
       "  </thead>\n",
       "  <tbody>\n",
       "    <tr>\n",
       "      <th>0</th>\n",
       "      <td>Garissa</td>\n",
       "      <td>2021</td>\n",
       "      <td>male</td>\n",
       "      <td>primary</td>\n",
       "      <td>7270.0</td>\n",
       "    </tr>\n",
       "    <tr>\n",
       "      <th>1</th>\n",
       "      <td>Nakuru</td>\n",
       "      <td>2022</td>\n",
       "      <td>male</td>\n",
       "      <td>secondary</td>\n",
       "      <td>860.0</td>\n",
       "    </tr>\n",
       "    <tr>\n",
       "      <th>2</th>\n",
       "      <td></td>\n",
       "      <td>2015</td>\n",
       "      <td>male</td>\n",
       "      <td>secondary</td>\n",
       "      <td>5390.0</td>\n",
       "    </tr>\n",
       "    <tr>\n",
       "      <th>3</th>\n",
       "      <td>Uasin Gishu</td>\n",
       "      <td>2019</td>\n",
       "      <td>female</td>\n",
       "      <td>secondary</td>\n",
       "      <td>5191.0</td>\n",
       "    </tr>\n",
       "    <tr>\n",
       "      <th>4</th>\n",
       "      <td>Lamu</td>\n",
       "      <td>2011</td>\n",
       "      <td>female</td>\n",
       "      <td>primary</td>\n",
       "      <td>5734.0</td>\n",
       "    </tr>\n",
       "  </tbody>\n",
       "</table>\n",
       "</div>"
      ],
      "text/plain": [
       "        County  Year  Gender      Level  Enrollment\n",
       "0      Garissa  2021    male    primary      7270.0\n",
       "1       Nakuru  2022    male  secondary       860.0\n",
       "2               2015    male  secondary      5390.0\n",
       "3  Uasin Gishu  2019  female  secondary      5191.0\n",
       "4         Lamu  2011  female    primary      5734.0"
      ]
     },
     "execution_count": 78,
     "metadata": {},
     "output_type": "execute_result"
    }
   ],
   "source": [
    "edu_df.head()"
   ]
  },
  {
   "cell_type": "code",
   "execution_count": 79,
   "metadata": {},
   "outputs": [
    {
     "data": {
      "text/html": [
       "<div>\n",
       "<style scoped>\n",
       "    .dataframe tbody tr th:only-of-type {\n",
       "        vertical-align: middle;\n",
       "    }\n",
       "\n",
       "    .dataframe tbody tr th {\n",
       "        vertical-align: top;\n",
       "    }\n",
       "\n",
       "    .dataframe thead th {\n",
       "        text-align: right;\n",
       "    }\n",
       "</style>\n",
       "<table border=\"1\" class=\"dataframe\">\n",
       "  <thead>\n",
       "    <tr style=\"text-align: right;\">\n",
       "      <th></th>\n",
       "      <th>County</th>\n",
       "      <th>Year</th>\n",
       "      <th>Gender</th>\n",
       "      <th>Level</th>\n",
       "      <th>Enrollment</th>\n",
       "    </tr>\n",
       "  </thead>\n",
       "  <tbody>\n",
       "    <tr>\n",
       "      <th>8107</th>\n",
       "      <td>Turkana</td>\n",
       "      <td>2016</td>\n",
       "      <td>female</td>\n",
       "      <td>primary</td>\n",
       "      <td>5260.0</td>\n",
       "    </tr>\n",
       "    <tr>\n",
       "      <th>8108</th>\n",
       "      <td>Siaya</td>\n",
       "      <td>2013</td>\n",
       "      <td>female</td>\n",
       "      <td>primary</td>\n",
       "      <td>4409.0</td>\n",
       "    </tr>\n",
       "    <tr>\n",
       "      <th>8109</th>\n",
       "      <td>Turkana</td>\n",
       "      <td>2010</td>\n",
       "      <td>male</td>\n",
       "      <td>secondary</td>\n",
       "      <td>5783.0</td>\n",
       "    </tr>\n",
       "    <tr>\n",
       "      <th>8110</th>\n",
       "      <td>Nyeri</td>\n",
       "      <td>2012</td>\n",
       "      <td>male</td>\n",
       "      <td>secondary</td>\n",
       "      <td>712.0</td>\n",
       "    </tr>\n",
       "    <tr>\n",
       "      <th>8111</th>\n",
       "      <td>Kitui</td>\n",
       "      <td>2012</td>\n",
       "      <td>male</td>\n",
       "      <td>secondary</td>\n",
       "      <td>5406.0</td>\n",
       "    </tr>\n",
       "  </tbody>\n",
       "</table>\n",
       "</div>"
      ],
      "text/plain": [
       "       County  Year  Gender      Level  Enrollment\n",
       "8107  Turkana  2016  female    primary      5260.0\n",
       "8108    Siaya  2013  female    primary      4409.0\n",
       "8109  Turkana  2010    male  secondary      5783.0\n",
       "8110    Nyeri  2012    male  secondary       712.0\n",
       "8111    Kitui  2012    male  secondary      5406.0"
      ]
     },
     "execution_count": 79,
     "metadata": {},
     "output_type": "execute_result"
    }
   ],
   "source": [
    "edu_df.tail()"
   ]
  },
  {
   "cell_type": "code",
   "execution_count": 80,
   "metadata": {},
   "outputs": [
    {
     "name": "stdout",
     "output_type": "stream",
     "text": [
      "Unique levels(clean): ['primary' 'secondary']\n"
     ]
    }
   ],
   "source": [
    "print('Unique levels(clean):',edu_df['Level'].unique())"
   ]
  },
  {
   "cell_type": "markdown",
   "metadata": {},
   "source": [
    "\n",
    "\n",
    "Cleaning Year column:\n",
    "\n",
    "Start by checking for unique values\n",
    "\n"
   ]
  },
  {
   "cell_type": "code",
   "execution_count": 81,
   "metadata": {},
   "outputs": [
    {
     "data": {
      "text/plain": [
       "array(['2021', '2022', '2015', '2019', '2011', '2012', '2013', '2014',\n",
       "       '2020', '2018', '2010', '2017', '2016', 'two thousand twelve'],\n",
       "      dtype=object)"
      ]
     },
     "execution_count": 81,
     "metadata": {},
     "output_type": "execute_result"
    }
   ],
   "source": [
    "edu_df['Year'].unique()"
   ]
  },
  {
   "cell_type": "markdown",
   "metadata": {},
   "source": [
    "We noticed that some values in the `Year` column are not numeric. We will:\n",
    "- Filter out any non-digit entries\n",
    "- Convert the column to integer\n",
    "\n",
    "Let's proceed to removing rows with non-numeric values"
   ]
  },
  {
   "cell_type": "code",
   "execution_count": 82,
   "metadata": {},
   "outputs": [],
   "source": [
    "edu_df = edu_df[edu_df['Year'].astype(str).str.isdigit()]"
   ]
  },
  {
   "cell_type": "code",
   "execution_count": 83,
   "metadata": {},
   "outputs": [
    {
     "name": "stdout",
     "output_type": "stream",
     "text": [
      "Unique Years after cleaning: ['2021' '2022' '2015' '2019' '2011' '2012' '2013' '2014' '2020' '2018'\n",
      " '2010' '2017' '2016']\n"
     ]
    }
   ],
   "source": [
    "print('Unique Years after cleaning:',edu_df['Year'].unique())"
   ]
  },
  {
   "cell_type": "markdown",
   "metadata": {},
   "source": [
    "Let's the proceed to converting the Year column to integer datatype"
   ]
  },
  {
   "cell_type": "code",
   "execution_count": 84,
   "metadata": {},
   "outputs": [],
   "source": [
    "edu_df.loc[:, 'Year'] = edu_df['Year'].astype(int)"
   ]
  },
  {
   "cell_type": "markdown",
   "metadata": {},
   "source": [
    "Let's check the dataframe's information once again"
   ]
  },
  {
   "cell_type": "code",
   "execution_count": 85,
   "metadata": {},
   "outputs": [
    {
     "name": "stdout",
     "output_type": "stream",
     "text": [
      "<class 'pandas.core.frame.DataFrame'>\n",
      "Int64Index: 8046 entries, 0 to 8111\n",
      "Data columns (total 5 columns):\n",
      " #   Column      Non-Null Count  Dtype  \n",
      "---  ------      --------------  -----  \n",
      " 0   County      8046 non-null   object \n",
      " 1   Year        8046 non-null   int32  \n",
      " 2   Gender      8046 non-null   object \n",
      " 3   Level       8046 non-null   object \n",
      " 4   Enrollment  7651 non-null   float64\n",
      "dtypes: float64(1), int32(1), object(3)\n",
      "memory usage: 345.7+ KB\n"
     ]
    }
   ],
   "source": [
    "edu_df.info()"
   ]
  },
  {
   "cell_type": "markdown",
   "metadata": {},
   "source": [
    "\n",
    "\n",
    "\n",
    "Cleaning  the `County` Column\n",
    "\n"
   ]
  },
  {
   "cell_type": "code",
   "execution_count": 86,
   "metadata": {},
   "outputs": [
    {
     "name": "stdout",
     "output_type": "stream",
     "text": [
      "<class 'pandas.core.frame.DataFrame'>\n",
      "Int64Index: 8046 entries, 0 to 8111\n",
      "Data columns (total 5 columns):\n",
      " #   Column      Non-Null Count  Dtype  \n",
      "---  ------      --------------  -----  \n",
      " 0   County      8046 non-null   object \n",
      " 1   Year        8046 non-null   int32  \n",
      " 2   Gender      8046 non-null   object \n",
      " 3   Level       8046 non-null   object \n",
      " 4   Enrollment  7651 non-null   float64\n",
      "dtypes: float64(1), int32(1), object(3)\n",
      "memory usage: 345.7+ KB\n"
     ]
    }
   ],
   "source": [
    "edu_df.info()"
   ]
  },
  {
   "cell_type": "markdown",
   "metadata": {},
   "source": [
    "Let's begin by converting County column to string"
   ]
  },
  {
   "cell_type": "code",
   "execution_count": 106,
   "metadata": {},
   "outputs": [],
   "source": [
    "edu_df['County'] = edu_df['County'].astype(str)"
   ]
  },
  {
   "cell_type": "code",
   "execution_count": 89,
   "metadata": {},
   "outputs": [
    {
     "name": "stdout",
     "output_type": "stream",
     "text": [
      "Unique values: ['Garissa' 'Nakuru' '' 'Uasin Gishu' 'Lamu' 'Isiolo' 'Busia' 'Siaya'\n",
      " 'Embu' 'West Pokot' 'Kericho' 'Laikipia' 'Kajiado' 'Kitui' 'Kirinyaga'\n",
      " 'Elgeyo Marakwet' 'Nyandarua' \"Murang'a\" 'Kilifi' 'Samburu' 'Mombasa'\n",
      " 'Mandera' 'Tana River' 'Makueni' 'Kiambu' 'Marsabit' 'Wajir' 'Machakos'\n",
      " 'Taita Taveta' 'Kakamega' 'Nairobi' 'Tharaka-Nithi' 'Bungoma' 'Turkana'\n",
      " 'Meru' 'Narok' 'Kisumu' 'Migori' 'Homa Bay' 'Trans Nzoia' 'Nyeri'\n",
      " 'Vihiga' 'Bomet']\n"
     ]
    }
   ],
   "source": [
    "print('Unique values:',edu_df['County'].unique())"
   ]
  },
  {
   "cell_type": "markdown",
   "metadata": {},
   "source": [
    "Accoring to the above information,It's recommended that we:\n",
    "\n",
    "Strip leading/trailing whitespace\n",
    "Remove rows where County is empty or just spaces"
   ]
  },
  {
   "cell_type": "code",
   "execution_count": 93,
   "metadata": {},
   "outputs": [
    {
     "name": "stdout",
     "output_type": "stream",
     "text": [
      "Unique counties: 42\n"
     ]
    }
   ],
   "source": [
    "edu_df = edu_df[edu_df['County'] != '']\n",
    "print(\"Unique counties:\", edu_df['County'].nunique())"
   ]
  },
  {
   "cell_type": "markdown",
   "metadata": {},
   "source": [
    "\n",
    "\n",
    "\n",
    "Clean the `Enrollment` Column\n",
    "\n",
    "\n",
    "Let's start by checking for null values and dropping the affected rows"
   ]
  },
  {
   "cell_type": "code",
   "execution_count": 94,
   "metadata": {},
   "outputs": [
    {
     "data": {
      "text/plain": [
       "392"
      ]
     },
     "execution_count": 94,
     "metadata": {},
     "output_type": "execute_result"
    }
   ],
   "source": [
    "edu_df['Enrollment'].isnull().sum()"
   ]
  },
  {
   "cell_type": "code",
   "execution_count": 95,
   "metadata": {},
   "outputs": [],
   "source": [
    "edu_df = edu_df.dropna(subset=['Enrollment'])"
   ]
  },
  {
   "cell_type": "code",
   "execution_count": 99,
   "metadata": {},
   "outputs": [
    {
     "name": "stdout",
     "output_type": "stream",
     "text": [
      "Null values after cleaning 0\n"
     ]
    }
   ],
   "source": [
    "print('Null values after cleaning',edu_df['Enrollment'].isnull().sum())"
   ]
  },
  {
   "cell_type": "code",
   "execution_count": 134,
   "metadata": {},
   "outputs": [
    {
     "data": {
      "text/plain": [
       "4985.420765027322"
      ]
     },
     "execution_count": 134,
     "metadata": {},
     "output_type": "execute_result"
    }
   ],
   "source": [
    "edu_df['Enrollment'].mean()"
   ]
  },
  {
   "cell_type": "code",
   "execution_count": 103,
   "metadata": {},
   "outputs": [],
   "source": [
    "edu_df['Enrollment'] = edu_df['Enrollment'].astype(int)"
   ]
  },
  {
   "cell_type": "code",
   "execution_count": 105,
   "metadata": {},
   "outputs": [
    {
     "name": "stdout",
     "output_type": "stream",
     "text": [
      "<class 'pandas.core.frame.DataFrame'>\n",
      "Int64Index: 7503 entries, 0 to 8111\n",
      "Data columns (total 5 columns):\n",
      " #   Column      Non-Null Count  Dtype \n",
      "---  ------      --------------  ----- \n",
      " 0   County      7503 non-null   object\n",
      " 1   Year        7503 non-null   int32 \n",
      " 2   Gender      7503 non-null   object\n",
      " 3   Level       7503 non-null   object\n",
      " 4   Enrollment  7503 non-null   int32 \n",
      "dtypes: int32(2), object(3)\n",
      "memory usage: 293.1+ KB\n"
     ]
    }
   ],
   "source": [
    "edu_df.info()"
   ]
  },
  {
   "cell_type": "code",
   "execution_count": 108,
   "metadata": {},
   "outputs": [
    {
     "data": {
      "text/html": [
       "<div>\n",
       "<style scoped>\n",
       "    .dataframe tbody tr th:only-of-type {\n",
       "        vertical-align: middle;\n",
       "    }\n",
       "\n",
       "    .dataframe tbody tr th {\n",
       "        vertical-align: top;\n",
       "    }\n",
       "\n",
       "    .dataframe thead th {\n",
       "        text-align: right;\n",
       "    }\n",
       "</style>\n",
       "<table border=\"1\" class=\"dataframe\">\n",
       "  <thead>\n",
       "    <tr style=\"text-align: right;\">\n",
       "      <th></th>\n",
       "      <th>County</th>\n",
       "      <th>Year</th>\n",
       "      <th>Gender</th>\n",
       "      <th>Level</th>\n",
       "      <th>Enrollment</th>\n",
       "    </tr>\n",
       "  </thead>\n",
       "  <tbody>\n",
       "    <tr>\n",
       "      <th>0</th>\n",
       "      <td>Garissa</td>\n",
       "      <td>2021</td>\n",
       "      <td>male</td>\n",
       "      <td>primary</td>\n",
       "      <td>7270</td>\n",
       "    </tr>\n",
       "    <tr>\n",
       "      <th>1</th>\n",
       "      <td>Nakuru</td>\n",
       "      <td>2022</td>\n",
       "      <td>male</td>\n",
       "      <td>secondary</td>\n",
       "      <td>860</td>\n",
       "    </tr>\n",
       "    <tr>\n",
       "      <th>3</th>\n",
       "      <td>Uasin Gishu</td>\n",
       "      <td>2019</td>\n",
       "      <td>female</td>\n",
       "      <td>secondary</td>\n",
       "      <td>5191</td>\n",
       "    </tr>\n",
       "    <tr>\n",
       "      <th>4</th>\n",
       "      <td>Lamu</td>\n",
       "      <td>2011</td>\n",
       "      <td>female</td>\n",
       "      <td>primary</td>\n",
       "      <td>5734</td>\n",
       "    </tr>\n",
       "    <tr>\n",
       "      <th>5</th>\n",
       "      <td>Isiolo</td>\n",
       "      <td>2021</td>\n",
       "      <td>male</td>\n",
       "      <td>primary</td>\n",
       "      <td>6265</td>\n",
       "    </tr>\n",
       "  </tbody>\n",
       "</table>\n",
       "</div>"
      ],
      "text/plain": [
       "        County  Year  Gender      Level  Enrollment\n",
       "0      Garissa  2021    male    primary        7270\n",
       "1       Nakuru  2022    male  secondary         860\n",
       "3  Uasin Gishu  2019  female  secondary        5191\n",
       "4         Lamu  2011  female    primary        5734\n",
       "5       Isiolo  2021    male    primary        6265"
      ]
     },
     "execution_count": 108,
     "metadata": {},
     "output_type": "execute_result"
    }
   ],
   "source": [
    "edu_df.head()"
   ]
  },
  {
   "cell_type": "markdown",
   "metadata": {},
   "source": [
    "Now that we're done cleaning let's reset our index"
   ]
  },
  {
   "cell_type": "code",
   "execution_count": 109,
   "metadata": {},
   "outputs": [],
   "source": [
    "edu_df = edu_df.reset_index(drop=True)"
   ]
  },
  {
   "cell_type": "code",
   "execution_count": 110,
   "metadata": {},
   "outputs": [
    {
     "data": {
      "text/html": [
       "<div>\n",
       "<style scoped>\n",
       "    .dataframe tbody tr th:only-of-type {\n",
       "        vertical-align: middle;\n",
       "    }\n",
       "\n",
       "    .dataframe tbody tr th {\n",
       "        vertical-align: top;\n",
       "    }\n",
       "\n",
       "    .dataframe thead th {\n",
       "        text-align: right;\n",
       "    }\n",
       "</style>\n",
       "<table border=\"1\" class=\"dataframe\">\n",
       "  <thead>\n",
       "    <tr style=\"text-align: right;\">\n",
       "      <th></th>\n",
       "      <th>County</th>\n",
       "      <th>Year</th>\n",
       "      <th>Gender</th>\n",
       "      <th>Level</th>\n",
       "      <th>Enrollment</th>\n",
       "    </tr>\n",
       "  </thead>\n",
       "  <tbody>\n",
       "    <tr>\n",
       "      <th>0</th>\n",
       "      <td>Garissa</td>\n",
       "      <td>2021</td>\n",
       "      <td>male</td>\n",
       "      <td>primary</td>\n",
       "      <td>7270</td>\n",
       "    </tr>\n",
       "    <tr>\n",
       "      <th>1</th>\n",
       "      <td>Nakuru</td>\n",
       "      <td>2022</td>\n",
       "      <td>male</td>\n",
       "      <td>secondary</td>\n",
       "      <td>860</td>\n",
       "    </tr>\n",
       "    <tr>\n",
       "      <th>2</th>\n",
       "      <td>Uasin Gishu</td>\n",
       "      <td>2019</td>\n",
       "      <td>female</td>\n",
       "      <td>secondary</td>\n",
       "      <td>5191</td>\n",
       "    </tr>\n",
       "    <tr>\n",
       "      <th>3</th>\n",
       "      <td>Lamu</td>\n",
       "      <td>2011</td>\n",
       "      <td>female</td>\n",
       "      <td>primary</td>\n",
       "      <td>5734</td>\n",
       "    </tr>\n",
       "    <tr>\n",
       "      <th>4</th>\n",
       "      <td>Isiolo</td>\n",
       "      <td>2021</td>\n",
       "      <td>male</td>\n",
       "      <td>primary</td>\n",
       "      <td>6265</td>\n",
       "    </tr>\n",
       "  </tbody>\n",
       "</table>\n",
       "</div>"
      ],
      "text/plain": [
       "        County  Year  Gender      Level  Enrollment\n",
       "0      Garissa  2021    male    primary        7270\n",
       "1       Nakuru  2022    male  secondary         860\n",
       "2  Uasin Gishu  2019  female  secondary        5191\n",
       "3         Lamu  2011  female    primary        5734\n",
       "4       Isiolo  2021    male    primary        6265"
      ]
     },
     "execution_count": 110,
     "metadata": {},
     "output_type": "execute_result"
    }
   ],
   "source": [
    "edu_df.head()"
   ]
  },
  {
   "cell_type": "markdown",
   "metadata": {},
   "source": [
    "\n",
    "###  EXPLORATORY DATA ANALYSIS"
   ]
  },
  {
   "cell_type": "markdown",
   "metadata": {},
   "source": [
    "In this section, we will explore the cleaned dataset to uncover patterns and trends related to gender differences in school enrollment across Kenya.\n",
    "\n",
    "Libraries used are seaborn and matplotlib\n",
    "\n",
    "### Goals of the EDA\n",
    "- Understand the distribution of enrollment numbers\n",
    "- Compare enrollment between genders\n",
    "- Compare enrollment between primary and secondary education levels\n",
    "- Identify counties with the largest gender disparities\n",
    "- Observe enrollment trends over time"
   ]
  },
  {
   "cell_type": "markdown",
   "metadata": {},
   "source": [
    "Overview of the Dataset\n",
    "\n",
    "We begin by examining the basic structure and summary statistics of the cleaned dataset."
   ]
  },
  {
   "cell_type": "code",
   "execution_count": 125,
   "metadata": {},
   "outputs": [
    {
     "name": "stdout",
     "output_type": "stream",
     "text": [
      "<class 'pandas.core.frame.DataFrame'>\n",
      "RangeIndex: 7503 entries, 0 to 7502\n",
      "Data columns (total 5 columns):\n",
      " #   Column      Non-Null Count  Dtype \n",
      "---  ------      --------------  ----- \n",
      " 0   County      7503 non-null   object\n",
      " 1   Year        7503 non-null   int32 \n",
      " 2   Gender      7503 non-null   object\n",
      " 3   Level       7503 non-null   object\n",
      " 4   Enrollment  7503 non-null   int32 \n",
      "dtypes: int32(2), object(3)\n",
      "memory usage: 234.6+ KB\n"
     ]
    },
    {
     "data": {
      "text/html": [
       "<div>\n",
       "<style scoped>\n",
       "    .dataframe tbody tr th:only-of-type {\n",
       "        vertical-align: middle;\n",
       "    }\n",
       "\n",
       "    .dataframe tbody tr th {\n",
       "        vertical-align: top;\n",
       "    }\n",
       "\n",
       "    .dataframe thead th {\n",
       "        text-align: right;\n",
       "    }\n",
       "</style>\n",
       "<table border=\"1\" class=\"dataframe\">\n",
       "  <thead>\n",
       "    <tr style=\"text-align: right;\">\n",
       "      <th></th>\n",
       "      <th>County</th>\n",
       "      <th>Year</th>\n",
       "      <th>Gender</th>\n",
       "      <th>Level</th>\n",
       "      <th>Enrollment</th>\n",
       "    </tr>\n",
       "  </thead>\n",
       "  <tbody>\n",
       "    <tr>\n",
       "      <th>count</th>\n",
       "      <td>7503</td>\n",
       "      <td>7503.000000</td>\n",
       "      <td>7503</td>\n",
       "      <td>7503</td>\n",
       "      <td>7503.000000</td>\n",
       "    </tr>\n",
       "    <tr>\n",
       "      <th>unique</th>\n",
       "      <td>42</td>\n",
       "      <td>NaN</td>\n",
       "      <td>2</td>\n",
       "      <td>2</td>\n",
       "      <td>NaN</td>\n",
       "    </tr>\n",
       "    <tr>\n",
       "      <th>top</th>\n",
       "      <td>West Pokot</td>\n",
       "      <td>NaN</td>\n",
       "      <td>male</td>\n",
       "      <td>secondary</td>\n",
       "      <td>NaN</td>\n",
       "    </tr>\n",
       "    <tr>\n",
       "      <th>freq</th>\n",
       "      <td>205</td>\n",
       "      <td>NaN</td>\n",
       "      <td>3764</td>\n",
       "      <td>3786</td>\n",
       "      <td>NaN</td>\n",
       "    </tr>\n",
       "    <tr>\n",
       "      <th>mean</th>\n",
       "      <td>NaN</td>\n",
       "      <td>2015.902839</td>\n",
       "      <td>NaN</td>\n",
       "      <td>NaN</td>\n",
       "      <td>4985.420765</td>\n",
       "    </tr>\n",
       "    <tr>\n",
       "      <th>std</th>\n",
       "      <td>NaN</td>\n",
       "      <td>3.735456</td>\n",
       "      <td>NaN</td>\n",
       "      <td>NaN</td>\n",
       "      <td>2876.873766</td>\n",
       "    </tr>\n",
       "    <tr>\n",
       "      <th>min</th>\n",
       "      <td>NaN</td>\n",
       "      <td>2010.000000</td>\n",
       "      <td>NaN</td>\n",
       "      <td>NaN</td>\n",
       "      <td>1.000000</td>\n",
       "    </tr>\n",
       "    <tr>\n",
       "      <th>25%</th>\n",
       "      <td>NaN</td>\n",
       "      <td>2013.000000</td>\n",
       "      <td>NaN</td>\n",
       "      <td>NaN</td>\n",
       "      <td>2524.000000</td>\n",
       "    </tr>\n",
       "    <tr>\n",
       "      <th>50%</th>\n",
       "      <td>NaN</td>\n",
       "      <td>2016.000000</td>\n",
       "      <td>NaN</td>\n",
       "      <td>NaN</td>\n",
       "      <td>4971.000000</td>\n",
       "    </tr>\n",
       "    <tr>\n",
       "      <th>75%</th>\n",
       "      <td>NaN</td>\n",
       "      <td>2019.000000</td>\n",
       "      <td>NaN</td>\n",
       "      <td>NaN</td>\n",
       "      <td>7421.000000</td>\n",
       "    </tr>\n",
       "    <tr>\n",
       "      <th>max</th>\n",
       "      <td>NaN</td>\n",
       "      <td>2022.000000</td>\n",
       "      <td>NaN</td>\n",
       "      <td>NaN</td>\n",
       "      <td>9998.000000</td>\n",
       "    </tr>\n",
       "  </tbody>\n",
       "</table>\n",
       "</div>"
      ],
      "text/plain": [
       "            County         Year Gender      Level   Enrollment\n",
       "count         7503  7503.000000   7503       7503  7503.000000\n",
       "unique          42          NaN      2          2          NaN\n",
       "top     West Pokot          NaN   male  secondary          NaN\n",
       "freq           205          NaN   3764       3786          NaN\n",
       "mean           NaN  2015.902839    NaN        NaN  4985.420765\n",
       "std            NaN     3.735456    NaN        NaN  2876.873766\n",
       "min            NaN  2010.000000    NaN        NaN     1.000000\n",
       "25%            NaN  2013.000000    NaN        NaN  2524.000000\n",
       "50%            NaN  2016.000000    NaN        NaN  4971.000000\n",
       "75%            NaN  2019.000000    NaN        NaN  7421.000000\n",
       "max            NaN  2022.000000    NaN        NaN  9998.000000"
      ]
     },
     "execution_count": 125,
     "metadata": {},
     "output_type": "execute_result"
    }
   ],
   "source": [
    "edu_df.info()\n",
    "edu_df.describe(include='all')"
   ]
  },
  {
   "cell_type": "markdown",
   "metadata": {},
   "source": [
    "### Distribution of Enrollment Numbers\n",
    "\n",
    "This histogram shows how enrollment values are distributed across all records."
   ]
  },
  {
   "cell_type": "code",
   "execution_count": 127,
   "metadata": {},
   "outputs": [
    {
     "data": {
      "image/png": "[encoded data removed]",
      "text/plain": [
       "<Figure size 576x360 with 1 Axes>"
      ]
     },
     "metadata": {
      "needs_background": "light"
     },
     "output_type": "display_data"
    }
   ],
   "source": [
    "plt.figure(figsize=(8, 5))\n",
    "sns.histplot(edu_df['Enrollment'], bins=30, kde=True, color='skyblue')\n",
    "plt.title('Distribution of Enrollment per Record')\n",
    "plt.xlabel('Enrollment')\n",
    "plt.ylabel('Frequency')\n",
    "plt.grid(True)\n",
    "plt.show()"
   ]
  },
  {
   "cell_type": "markdown",
   "metadata": {},
   "source": [
    "### Enrollment by Gender and Education Level\n",
    "\n",
    "We visualize how male and female students are distributed across primary and secondary education."
   ]
  },
  {
   "cell_type": "code",
   "execution_count": 129,
   "metadata": {},
   "outputs": [
    {
     "data": {
      "image/png": "[encoded data removed]",
      "text/plain": [
       "<Figure size 576x360 with 1 Axes>"
      ]
     },
     "metadata": {
      "needs_background": "light"
     },
     "output_type": "display_data"
    }
   ],
   "source": [
    "level_gender = edu_df.groupby(['Level', 'Gender'])['Enrollment'].sum().reset_index()\n",
    "\n",
    "plt.figure(figsize=(8, 5))\n",
    "sns.barplot(data=level_gender, x='Level', y='Enrollment', hue='Gender', palette='pastel')\n",
    "plt.title('Enrollment by Education Level and Gender')\n",
    "plt.ylabel('Total Enrollment')\n",
    "plt.grid(axis='y')\n",
    "plt.show()"
   ]
  },
  {
   "cell_type": "markdown",
   "metadata": {},
   "source": [
    "### Enrollment Trends Over Time by Gender\n",
    "\n",
    "We analyze how male and female enrollment has changed annually from 2010 to 2023."
   ]
  },
  {
   "cell_type": "code",
   "execution_count": 130,
   "metadata": {},
   "outputs": [
    {
     "data": {
      "image/png": "[encoded data removed]",
      "text/plain": [
       "<Figure size 720x432 with 1 Axes>"
      ]
     },
     "metadata": {
      "needs_background": "light"
     },
     "output_type": "display_data"
    }
   ],
   "source": [
    "gender_year = edu_df.groupby(['Year', 'Gender'])['Enrollment'].sum().reset_index()\n",
    "\n",
    "plt.figure(figsize=(10, 6))\n",
    "sns.lineplot(data=gender_year, x='Year', y='Enrollment', hue='Gender', marker='o')\n",
    "plt.title('Enrollment Trend Over Time by Gender')\n",
    "plt.ylabel('Total Enrollment')\n",
    "plt.grid(True)\n",
    "plt.show()"
   ]
  },
  {
   "cell_type": "markdown",
   "metadata": {},
   "source": [
    "### Gender Gap by County\n",
    "\n",
    "This analysis highlights counties with the largest disparities between male and female enrollment totals."
   ]
  },
  {
   "cell_type": "code",
   "execution_count": 132,
   "metadata": {},
   "outputs": [
    {
     "data": {
      "image/png": "[encoded data removed]",
      "text/plain": [
       "<Figure size 864x432 with 1 Axes>"
      ]
     },
     "metadata": {
      "needs_background": "light"
     },
     "output_type": "display_data"
    }
   ],
   "source": [
    "county_gender = edu_df.groupby(['County', 'Gender'])['Enrollment'].sum().unstack().fillna(0)\n",
    "\n",
    "\n",
    "county_gender['Gap (M - F)'] = county_gender['male'] - county_gender['female']\n",
    "county_gender_sorted = county_gender.sort_values('Gap (M - F)', ascending=False)\n",
    "\n",
    "\n",
    "county_gender_sorted[['male', 'female']].head(10).plot(kind='bar', figsize=(12, 6))\n",
    "plt.title('Top 10 Counties with Largest Gender Gaps (M > F)')\n",
    "plt.ylabel('Total Enrollment')\n",
    "plt.xticks(rotation=45)\n",
    "plt.grid(True)\n",
    "plt.show()"
   ]
  },
  {
   "cell_type": "markdown",
   "metadata": {},
   "source": [
    "### Male vs Female Enrollment by County (Scatter Plot)\n",
    "\n",
    "This scatter plot helps visualize gender balance per county:\n",
    "- Dots **on** the diagonal line = equal male/female enrollment\n",
    "- **Above** the line = more males\n",
    "- **Below** the line = more females"
   ]
  },
  {
   "cell_type": "code",
   "execution_count": 133,
   "metadata": {},
   "outputs": [
    {
     "data": {
      "image/png": "[encoded data removed]",
      "text/plain": [
       "<Figure size 576x576 with 1 Axes>"
      ]
     },
     "metadata": {
      "needs_background": "light"
     },
     "output_type": "display_data"
    }
   ],
   "source": [
    "plt.figure(figsize=(8, 8))\n",
    "sns.scatterplot(data=county_gender, x='female', y='male', s=100, color='darkorange')\n",
    "\n",
    "\n",
    "max_val = max(county_gender['male'].max(), county_gender['female'].max())\n",
    "plt.plot([0, max_val], [0, max_val], linestyle='--', color='gray')\n",
    "\n",
    "plt.title('Male vs Female Enrollment by County')\n",
    "plt.xlabel('Total Female Enrollment')\n",
    "plt.ylabel('Total Male Enrollment')\n",
    "plt.grid(True)\n",
    "plt.show()"
   ]
  },
  {
   "cell_type": "markdown",
   "metadata": {},
   "source": [
    "### Summary of Insights from EDA\n",
    "\n",
    "### 1. Gender Disparity\n",
    "- Male students account for a higher proportion of total enrollment.\n",
    "- The gender gap is wider at the **secondary level**, especially in rural counties.\n",
    "\n",
    "### 2. Education Level Differences\n",
    "- Primary education has much higher enrollment than secondary.\n",
    "- Female participation drops more sharply at the secondary level than male.\n",
    "\n",
    "### 3. County-Level Disparities\n",
    "- Most counties favor male enrollment, especially in northern and eastern Kenya.\n",
    "- A few counties show relatively balanced enrollment.\n",
    "\n",
    "### 4. Time Trends\n",
    "- Enrollment increased between 2010–2018 before stabilizing.\n",
    "- The gap between male and female students has persisted over time.\n",
    "\n",
    "### 5. Scatter Analysis\n",
    "- Most counties lie **above the diagonal** in the scatter plot — confirming male enrollment dominance.\n",
    "\n",
    "These insights highlight the need for gender-focused interventions, especially at the secondary level in underserved counties."
   ]
  },
  {
   "cell_type": "markdown",
   "metadata": {},
   "source": [
    "### Business Recommendations for the Ministry of Education & Stakeholders\n",
    "\n",
    "\n",
    "### 1. Launch Targeted Interventions in Gender-Disadvantaged Counties\n",
    "Insight: The top 10 counties with the widest gender gaps have significantly lower female enrollment, especially in secondary education.\n",
    "\n",
    "Recommendation:\n",
    "- Develop county-specific programs in these high-gap areas, such as:\n",
    "\n",
    "- School-based mentorship for girls\n",
    "\n",
    "- Girls' scholarship and bursary schemes\n",
    "\n",
    "- Community sensitization to address early marriage and gender bias\n",
    "\n",
    "- Mobile school units for nomadic communities\n",
    "\n",
    "Goal: Increase retention and transition rates for girls in the most affected counties.\n",
    "\n",
    "\n",
    "### 2. Strengthen Transition from Primary to Secondary for Girls\n",
    "\n",
    "\n",
    "Insight: Female enrollment sharply drops from primary to secondary level across most counties.\n",
    "\n",
    "Recommendation:\n",
    "- Implement transition support programs, including:\n",
    "\n",
    "- Boarding facilities or safe transport for girls in rural areas\n",
    "\n",
    "- Free or subsidized sanitary pads and uniforms\n",
    "\n",
    "- Transition monitoring systems for class 8 graduates\n",
    "\n",
    "- Career awareness programs to motivate continued education\n",
    "\n",
    "Goal:Reduce dropout after primary school and increase female completion of secondary education.\n",
    "\n",
    "\n"
   ]
  },
  {
   "cell_type": "code",
   "execution_count": 138,
   "metadata": {},
   "outputs": [],
   "source": [
    "edu_df.to_csv(\"Kenya_Enrollment_Clean.csv\", index=False)"
   ]
  },
  {
   "cell_type": "code",
   "execution_count": 139,
   "metadata": {},
   "outputs": [
    {
     "data": {
      "text/plain": [
       "True"
      ]
     },
     "execution_count": 139,
     "metadata": {},
     "output_type": "execute_result"
    }
   ],
   "source": [
    "\n",
    "import os\n",
    "os.path.exists(\"Kenya_Enrollment_Clean.csv\")\n"
   ]
  },
  {
   "cell_type": "code",
   "execution_count": null,
   "metadata": {},
   "outputs": [],
   "source": []
  }
 ],
 "metadata": {
  "kernelspec": {
   "display_name": "Python (learn-env)",
   "language": "python",
   "name": "learn-env"
  },
  "language_info": {
   "codemirror_mode": {
    "name": "ipython",
    "version": 3
   },
   "file_extension": ".py",
   "mimetype": "text/x-python",
   "name": "python",
   "nbconvert_exporter": "python",
   "pygments_lexer": "ipython3",
   "version": "3.8.5"
  }
 },
 "nbformat": 4,
 "nbformat_minor": 4
}
